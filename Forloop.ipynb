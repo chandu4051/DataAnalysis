{
 "cells": [
  {
   "cell_type": "code",
   "execution_count": 1,
   "id": "2779bbbf-c555-42c7-aef7-bfcc0cb4d16d",
   "metadata": {},
   "outputs": [],
   "source": [
    "import pandas as pd\n",
    "import numpy as np\n",
    "import matplotlib.pyplot as plt\n",
    "import seaborn as sns"
   ]
  },
  {
   "cell_type": "code",
   "execution_count": 2,
   "id": "a1a452cb-6298-4b9c-b3a3-bb1a6a47b192",
   "metadata": {},
   "outputs": [
    {
     "name": "stdout",
     "output_type": "stream",
     "text": [
      "Given Dataframe :\n",
      "         Name  Age    Stream  Percentage\n",
      "0      Ankit   21      Math          88\n",
      "1       Amit   19  Commerce          92\n",
      "2  Aishwarya   20      Arts          95\n",
      "3   Priyanka   18   Biology          70\n",
      "\n",
      "Iterating over rows using index attribute :\n",
      "\n",
      "Ankit Math\n",
      "Amit Commerce\n",
      "Aishwarya Arts\n",
      "Priyanka Biology\n"
     ]
    }
   ],
   "source": [
    "# Define a dictionary containing students data\n",
    "data = {'Name': ['Ankit', 'Amit',\n",
    "                 'Aishwarya', 'Priyanka'],\n",
    "        'Age': [21, 19, 20, 18],\n",
    "        'Stream': ['Math', 'Commerce',\n",
    "                   'Arts', 'Biology'],\n",
    "        'Percentage': [88, 92, 95, 70]}\n",
    "\n",
    "# Convert the dictionary into DataFrame\n",
    "df = pd.DataFrame(data, columns=['Name', 'Age', \n",
    "                                 'Stream', 'Percentage'])\n",
    "\n",
    "print(\"Given Dataframe :\\n\", df)\n",
    "\n",
    "print(\"\\nIterating over rows using index attribute :\\n\")\n",
    "\n",
    "# iterate through each row and select\n",
    "# 'Name' and 'Stream' column respectively.\n",
    "for ind in df.index:\n",
    "    print(df['Name'][ind], df['Stream'][ind])\n"
   ]
  },
  {
   "cell_type": "code",
   "execution_count": 3,
   "id": "160f77ef-6340-45bb-b86a-e773d9812813",
   "metadata": {},
   "outputs": [
    {
     "name": "stdout",
     "output_type": "stream",
     "text": [
      "Given Dataframe :\n",
      "         Name  Age    Stream  Percentage\n",
      "0      Ankit   21      Math          88\n",
      "1       Amit   19  Commerce          92\n",
      "2  Aishwarya   20      Arts          95\n",
      "3   Priyanka   18   Biology          70\n",
      "\n",
      "Iterating over rows using iterrows() method :\n",
      "\n",
      "Ankit 21\n",
      "Amit 19\n",
      "Aishwarya 20\n",
      "Priyanka 18\n"
     ]
    }
   ],
   "source": [
    "# Define a dictionary containing students data\n",
    "data = {'Name': ['Ankit', 'Amit', \n",
    "                 'Aishwarya', 'Priyanka'],\n",
    "        'Age': [21, 19, 20, 18],\n",
    "        'Stream': ['Math', 'Commerce',\n",
    "                   'Arts', 'Biology'],\n",
    "        'Percentage': [88, 92, 95, 70]}\n",
    "\n",
    "# Convert the dictionary into DataFrame\n",
    "df = pd.DataFrame(data, columns=['Name', 'Age', \n",
    "                                 'Stream', 'Percentage'])\n",
    "\n",
    "print(\"Given Dataframe :\\n\", df)\n",
    "\n",
    "print(\"\\nIterating over rows using iterrows() method :\\n\")\n",
    "\n",
    "# iterate through each row and select\n",
    "# 'Name' and 'Age' column respectively.\n",
    "for index, row in df.iterrows():\n",
    "    print(row[\"Name\"], row[\"Age\"])\n"
   ]
  },
  {
   "cell_type": "code",
   "execution_count": 4,
   "id": "bd1a39f2-c6a4-445a-aa99-d3b2995ba98b",
   "metadata": {},
   "outputs": [
    {
     "name": "stdout",
     "output_type": "stream",
     "text": [
      "Given Dataframe :\n",
      "         Name  Age    Stream  Percentage\n",
      "0      Ankit   21      Math          88\n",
      "1       Amit   19  Commerce          92\n",
      "2  Aishwarya   20      Arts          95\n",
      "3   Priyanka   18   Biology          70\n",
      "\n",
      "Iterating over rows using itertuples() method :\n",
      "\n",
      "Ankit 88\n",
      "Amit 92\n",
      "Aishwarya 95\n",
      "Priyanka 70\n"
     ]
    }
   ],
   "source": [
    "# Define a dictionary containing students data\n",
    "data = {'Name': ['Ankit', 'Amit', 'Aishwarya',\n",
    "                 'Priyanka'],\n",
    "        'Age': [21, 19, 20, 18],\n",
    "        'Stream': ['Math', 'Commerce', 'Arts', \n",
    "                   'Biology'],\n",
    "        'Percentage': [88, 92, 95, 70]}\n",
    "\n",
    "# Convert the dictionary into DataFrame\n",
    "df = pd.DataFrame(data, columns=['Name', 'Age', \n",
    "                                 'Stream',\n",
    "                                 'Percentage'])\n",
    "\n",
    "print(\"Given Dataframe :\\n\", df)\n",
    "\n",
    "print(\"\\nIterating over rows using itertuples() method :\\n\")\n",
    "\n",
    "# iterate through each row and select\n",
    "# 'Name' and 'Percentage' column respectively.\n",
    "for row in df.itertuples(index=True, name='Pandas'):\n",
    "    print(getattr(row, \"Name\"), getattr(row, \"Percentage\"))\n"
   ]
  },
  {
   "cell_type": "code",
   "execution_count": null,
   "id": "5f38c118-887c-4946-bd22-66e261915206",
   "metadata": {},
   "outputs": [],
   "source": []
  }
 ],
 "metadata": {
  "kernelspec": {
   "display_name": "Python 3 (ipykernel)",
   "language": "python",
   "name": "python3"
  },
  "language_info": {
   "codemirror_mode": {
    "name": "ipython",
    "version": 3
   },
   "file_extension": ".py",
   "mimetype": "text/x-python",
   "name": "python",
   "nbconvert_exporter": "python",
   "pygments_lexer": "ipython3",
   "version": "3.12.4"
  }
 },
 "nbformat": 4,
 "nbformat_minor": 5
}
